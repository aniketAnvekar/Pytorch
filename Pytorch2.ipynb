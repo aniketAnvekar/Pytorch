{
 "cells": [
  {
   "cell_type": "code",
   "execution_count": 1,
   "metadata": {},
   "outputs": [],
   "source": [
    "import torchvision\n",
    "import torch\n",
    "from torch.utils.data import Dataset,DataLoader\n",
    "import numpy as np\n",
    "import math"
   ]
  },
  {
   "cell_type": "code",
   "execution_count": 3,
   "metadata": {},
   "outputs": [
    {
     "name": "stdout",
     "output_type": "stream",
     "text": [
      "tensor([1.4230e+01, 1.7100e+00, 2.4300e+00, 1.5600e+01, 1.2700e+02, 2.8000e+00,\n",
      "        3.0600e+00, 2.8000e-01, 2.2900e+00, 5.6400e+00, 1.0400e+00, 3.9200e+00,\n",
      "        1.0650e+03]) tensor([1.])\n"
     ]
    }
   ],
   "source": [
    "class WineDataset(Dataset):\n",
    "    def __init__(self):\n",
    "        xy = np.loadtxt('./Desktop/wine1.csv',delimiter=\",\",dtype=np.float32,skiprows=1)\n",
    "        self.x = torch.from_numpy(xy[:,1:])\n",
    "        self.y = torch.from_numpy(xy[:,[0]])\n",
    "        self.n_samples = xy.shape[0]\n",
    "        \n",
    "    def __getitem__(self,index):\n",
    "        return self.x[index],self.y[index]\n",
    "        \n",
    "    def __len__(self):\n",
    "        return self.n_samples\n",
    "    \n",
    "dataset = WineDataset()\n",
    "first_data = dataset[0]\n",
    "features,label = first_data\n",
    "print(features,label) "
   ]
  },
  {
   "cell_type": "code",
   "execution_count": 13,
   "metadata": {},
   "outputs": [
    {
     "name": "stdout",
     "output_type": "stream",
     "text": [
      "==>epoch:1/2 , step:5/45 , input:torch.Size([4, 13])\n",
      "==>epoch:1/2 , step:10/45 , input:torch.Size([4, 13])\n",
      "==>epoch:1/2 , step:15/45 , input:torch.Size([4, 13])\n",
      "==>epoch:1/2 , step:20/45 , input:torch.Size([4, 13])\n",
      "==>epoch:1/2 , step:25/45 , input:torch.Size([4, 13])\n",
      "==>epoch:1/2 , step:30/45 , input:torch.Size([4, 13])\n",
      "==>epoch:1/2 , step:35/45 , input:torch.Size([4, 13])\n",
      "==>epoch:1/2 , step:40/45 , input:torch.Size([4, 13])\n",
      "==>epoch:1/2 , step:45/45 , input:torch.Size([2, 13])\n",
      "==>epoch:2/2 , step:5/45 , input:torch.Size([4, 13])\n",
      "==>epoch:2/2 , step:10/45 , input:torch.Size([4, 13])\n",
      "==>epoch:2/2 , step:15/45 , input:torch.Size([4, 13])\n",
      "==>epoch:2/2 , step:20/45 , input:torch.Size([4, 13])\n",
      "==>epoch:2/2 , step:25/45 , input:torch.Size([4, 13])\n",
      "==>epoch:2/2 , step:30/45 , input:torch.Size([4, 13])\n",
      "==>epoch:2/2 , step:35/45 , input:torch.Size([4, 13])\n",
      "==>epoch:2/2 , step:40/45 , input:torch.Size([4, 13])\n",
      "==>epoch:2/2 , step:45/45 , input:torch.Size([2, 13])\n"
     ]
    }
   ],
   "source": [
    "# epoch = 1 forward and backward pass\n",
    "# batch_size = no.of training samples in one epoch\n",
    "# no.of iters = no.of passes,each pass using (batch_size) number of samples\n",
    "\n",
    "# data loading using dataloader\n",
    "dataloader = DataLoader(dataset=dataset,batch_size=4,shuffle=True)\n",
    "\n",
    "# dataiter = iter(dataloader)\n",
    "# data = dataiter.next()\n",
    "# features,label = data\n",
    "# print(features,label)\n",
    "\n",
    "num_epochs = 2\n",
    "total_samples = len(dataset) \n",
    "n_iterations = math.ceil(total_sample/4)  #batch_size=4\n",
    "\n",
    "for epoch in range(num_epochs):\n",
    "    for i,(inputs,labels) in enumerate(dataloader):\n",
    "        if (i+1)%5 == 0:\n",
    "            print(f'==>epoch:{epoch+1}/{num_epochs} , step:{i+1}/{n_iterations} , input:{inputs.shape}')"
   ]
  },
  {
   "cell_type": "code",
   "execution_count": 18,
   "metadata": {},
   "outputs": [
    {
     "name": "stdout",
     "output_type": "stream",
     "text": [
      "tensor([3.2017e+01, 3.8475e+00, 5.4675e+00, 3.5100e+01, 2.8575e+02, 6.3000e+00,\n",
      "        6.8850e+00, 6.3000e-01, 5.1525e+00, 1.2690e+01, 2.3400e+00, 8.8200e+00,\n",
      "        2.3962e+03]) tensor([1.])\n"
     ]
    }
   ],
   "source": [
    "# Creating custom transforms to convert np array into torch tensors\n",
    "class WineDataset(Dataset):\n",
    "    def __init__(self,transform=None):\n",
    "        xy = np.loadtxt('./Desktop/wine1.csv',delimiter=\",\",dtype=np.float32,skiprows=1)\n",
    "        self.x = xy[:,1:]\n",
    "        self.y = xy[:,[0]]\n",
    "        self.n_samples = xy.shape[0]\n",
    "        \n",
    "        self.transform = transform\n",
    "        \n",
    "    def __getitem__(self,index):\n",
    "        sample = self.x[index],self.y[index]\n",
    "        \n",
    "        if self.transform:\n",
    "            sample = self.transform(sample)\n",
    "        \n",
    "        return sample\n",
    "        \n",
    "    def __len__(self):\n",
    "        return self.n_samples\n",
    "    \n",
    "class ToTensor:\n",
    "    def __call__(self,sample):\n",
    "        inputs,target = sample\n",
    "        return torch.from_numpy(inputs),torch.from_numpy(target)\n",
    "\n",
    "# creating a transform for multiplying input tensors\n",
    "class MulTensor:\n",
    "    def __init__(self,factor):\n",
    "        self.factor = factor\n",
    "    \n",
    "    def __call__(self,sample):\n",
    "        inputs,target = sample\n",
    "        inputs *= self.factor\n",
    "        return inputs,target\n",
    "    \n",
    "# dataset = WineDataset(transform=ToTensor())\n",
    "# first_data = dataset[0]\n",
    "# features,label = first_data\n",
    "# print(features,label)\n",
    "\n",
    "composed = torchvision.transforms.Compose([ToTensor(),MulTensor(2.25)])\n",
    "dataset = WineDataset(composed)\n",
    "first_data = dataset[0]\n",
    "features,label = first_data\n",
    "print(features,label)"
   ]
  },
  {
   "cell_type": "code",
   "execution_count": null,
   "metadata": {},
   "outputs": [],
   "source": []
  },
  {
   "cell_type": "code",
   "execution_count": null,
   "metadata": {},
   "outputs": [],
   "source": []
  },
  {
   "cell_type": "code",
   "execution_count": null,
   "metadata": {},
   "outputs": [],
   "source": []
  },
  {
   "cell_type": "code",
   "execution_count": null,
   "metadata": {},
   "outputs": [],
   "source": []
  }
 ],
 "metadata": {
  "kernelspec": {
   "display_name": "Python 3",
   "language": "python",
   "name": "python3"
  },
  "language_info": {
   "codemirror_mode": {
    "name": "ipython",
    "version": 3
   },
   "file_extension": ".py",
   "mimetype": "text/x-python",
   "name": "python",
   "nbconvert_exporter": "python",
   "pygments_lexer": "ipython3",
   "version": "3.6.9"
  }
 },
 "nbformat": 4,
 "nbformat_minor": 2
}
