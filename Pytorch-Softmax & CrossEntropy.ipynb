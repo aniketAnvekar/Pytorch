{
 "cells": [
  {
   "cell_type": "markdown",
   "metadata": {},
   "source": [
    "Softmax"
   ]
  },
  {
   "cell_type": "code",
   "execution_count": 1,
   "metadata": {},
   "outputs": [
    {
     "name": "stdout",
     "output_type": "stream",
     "text": [
      "Output after applying softmax [0.65900114 0.24243297 0.09856589]\n"
     ]
    }
   ],
   "source": [
    "# Softmax: S(yi) = e^yi / sum(e^yi)\n",
    "\n",
    "import torch\n",
    "import torch.nn as nn\n",
    "import numpy as np\n",
    "\n",
    "def softmax(x):\n",
    "    return np.exp(x) / np.sum(np.exp(x),axis=0)\n",
    "\n",
    "x = np.array([2.0,1.0,0.1])\n",
    "outputs = softmax(x)\n",
    "print('Output after applying softmax',outputs)"
   ]
  },
  {
   "cell_type": "code",
   "execution_count": 4,
   "metadata": {},
   "outputs": [
    {
     "name": "stdout",
     "output_type": "stream",
     "text": [
      "Output after applying softmax:  tensor([0.6590, 0.2424, 0.0986])\n"
     ]
    }
   ],
   "source": [
    "# applying softmax on torch tensors\n",
    "x = torch.tensor([2.0,1.0,0.1])\n",
    "outputs = torch.softmax(x,dim=0)\n",
    "print('Output after applying softmax: ',outputs)"
   ]
  },
  {
   "cell_type": "markdown",
   "metadata": {},
   "source": [
    "Cross Entropy"
   ]
  },
  {
   "cell_type": "code",
   "execution_count": 7,
   "metadata": {},
   "outputs": [
    {
     "name": "stdout",
     "output_type": "stream",
     "text": [
      "Loss for class0: 0.3567\n",
      "Loss for class2: 2.3026\n"
     ]
    }
   ],
   "source": [
    "#Cross Entropy: D(ypred,yactual) = -(1/N) * sum(yactual[i]*log(ypred[i]))\n",
    "\n",
    "def cross_entropy(actual,pred):\n",
    "    loss = -np.sum(actual * np.log(pred))\n",
    "    return loss \n",
    "\n",
    "# y must be one hot encoded\n",
    "# if class0: [1 0 0]\n",
    "# if class1: [0 1 0]\n",
    "# if class2: [0 0 1]\n",
    "\n",
    "y = np.array([1,0,0])\n",
    "\n",
    "y_pred_good = np.array([0.7,0.2,0.1])\n",
    "y_pred_bad = np.array([0.1,0.3,0.6])\n",
    "\n",
    "d0 = cross_entropy(y,y_pred_good)\n",
    "d2 = cross_entropy(y,y_pred_bad)\n",
    "\n",
    "print(f'Loss for class0: {d0:.4f}')\n",
    "print(f'Loss for class2: {d2:.4f}')"
   ]
  },
  {
   "cell_type": "code",
   "execution_count": 11,
   "metadata": {},
   "outputs": [
    {
     "name": "stdout",
     "output_type": "stream",
     "text": [
      "Loss for class0: 0.3055\n",
      "Loss for class1: 2.2228\n",
      "tensor([2, 0, 1]) tensor([0, 1, 2])\n"
     ]
    }
   ],
   "source": [
    "# performing cross entropy on torch tensors\n",
    "\n",
    "loss = nn.CrossEntropyLoss()\n",
    "\n",
    "# nn.CrossEntropyLoss() = nn.LogSoftmax + nn.NLLLoss(negative log likelihood loss)\n",
    "# yactual takes class label, no one hot encoded values\n",
    "# ypred has raw scores i.e no softmax applied \n",
    "\n",
    "#y = torch.tensor([0]) # 0-class0\n",
    "# more than 1 samples\n",
    "y = torch.tensor([2,0,1])\n",
    "\n",
    "# nsamples^nclasses i,e 1x3 tensor\n",
    "# y_pred_good = torch.tensor([[2.0,1.0,0.1]])\n",
    "# y_pred_bad = torch.tensor([[0.5,2.0,0.3]])\n",
    "y_pred_good = torch.tensor([[0.1,1.0,2.1],[2.0,1.0,0.1],[0.3,3.0,0.1]])\n",
    "y_pred_bad = torch.tensor([[2.1,1.0,0.1],[0.5,2.0,0.3],[0.5,0.1,2.3]])\n",
    "\n",
    "l1 = loss(y_pred_good,y)\n",
    "l2 = loss(y_pred_bad,y)\n",
    "\n",
    "print(f'Loss for class0: {l1.item():.4f}')\n",
    "print(f'Loss for class1: {l2.item():.4f}')\n",
    "\n",
    "_, pred1 = torch.max(y_pred_good,1)\n",
    "_, pred2 = torch.max(y_pred_bad,1)\n",
    "\n",
    "print(pred1,pred2)"
   ]
  },
  {
   "cell_type": "code",
   "execution_count": null,
   "metadata": {},
   "outputs": [],
   "source": []
  }
 ],
 "metadata": {
  "kernelspec": {
   "display_name": "Python 3",
   "language": "python",
   "name": "python3"
  },
  "language_info": {
   "codemirror_mode": {
    "name": "ipython",
    "version": 3
   },
   "file_extension": ".py",
   "mimetype": "text/x-python",
   "name": "python",
   "nbconvert_exporter": "python",
   "pygments_lexer": "ipython3",
   "version": "3.6.9"
  }
 },
 "nbformat": 4,
 "nbformat_minor": 2
}
