{
 "cells": [
  {
   "cell_type": "code",
   "execution_count": 1,
   "metadata": {},
   "outputs": [],
   "source": [
    "import torch\n",
    "import torch.nn as nn\n",
    "import torch.nn.functional as F\n",
    "import torchvision\n",
    "import torchvision.transforms as transforms\n",
    "import matplotlib.pyplot as plt\n",
    "import numpy as np"
   ]
  },
  {
   "cell_type": "code",
   "execution_count": 2,
   "metadata": {},
   "outputs": [],
   "source": [
    "device = torch.device('cuda' if torch.cuda.is_available() else 'cpu')"
   ]
  },
  {
   "cell_type": "code",
   "execution_count": 3,
   "metadata": {},
   "outputs": [],
   "source": [
    "num_epochs = 4\n",
    "batch_size = 4\n",
    "learning_rate = 0.001\n",
    "\n",
    "# dataset is in the form of PIL images\n",
    "# so we need to transform them into tensors\n",
    "# transform.Normalize(({reg,green,blue}:mean),({reg,green,blue}:std))\n",
    "# normalizing the image between [-1,1] -> img = (img-mean)/std\n",
    "transform = transforms.Compose(\n",
    "        [transforms.ToTensor(),\n",
    "        transforms.Normalize((0.5,0.5,0.5),(0.5,0.5,0.5))])"
   ]
  },
  {
   "cell_type": "code",
   "execution_count": 13,
   "metadata": {},
   "outputs": [],
   "source": [
    "train_dataset = torchvision.datasets.CIFAR10(root='./data',train=True,\n",
    "                        download=True,transform=transform)\n",
    "test_dataset = torchvision.datasets.CIFAR10(root='./data',train=False,\n",
    "                        download=True,transform=transform)\n",
    "train_loader = torch.utils.data.DataLoader(train_dataset,batch_size=batch_size,\n",
    "                        shuffle=True)\n",
    "test_loader = torch.utils.data.DataLoader(test_dataset,batch_size=batch_size,\n",
    "                        shuffle=False)\n",
    "classes = ('plane','car','bird','cat','deer',\n",
    "          'dog','frog','horse','ship','truck')\n"
   ]
  },
  {
   "cell_type": "code",
   "execution_count": null,
   "metadata": {},
   "outputs": [],
   "source": [
    "self.conv1 = nn.Conv2d(3,6,5)   #(ip:3,op:6,kernel size:5)\n",
    "        self.pool = nn.MaxPool2d(2,2)   #(kernel size:2,strides:2)\n",
    "        self.conv2 = nn.Conv2d(6,16,5)\n",
    "\n",
    "dataiter = iter(train_loader)\n",
    "img,label = dataiter.next()\n",
    "print(img.shape)"
   ]
  },
  {
   "cell_type": "code",
   "execution_count": null,
   "metadata": {},
   "outputs": [],
   "source": [
    "# implementing convnet\n",
    "class ConvNet(nn.Module):\n",
    "    def __init__(self):\n",
    "        self.conv1 = nn.Conv2d(3,6,5)   #(ip:3,op:6,kernel size:5)\n",
    "        self.pool = nn.MaxPool2d(2,2)   #(kernel size:2,strides:2)\n",
    "        self.conv2 = nn.Conv2d(6,16,5)\n",
    "        self.fc1 = nn.Linear()"
   ]
  },
  {
   "cell_type": "code",
   "execution_count": 16,
   "metadata": {},
   "outputs": [
    {
     "name": "stdout",
     "output_type": "stream",
     "text": [
      "torch.Size([4, 3, 32, 32])\n"
     ]
    }
   ],
   "source": []
  }
 ],
 "metadata": {
  "kernelspec": {
   "display_name": "Python 3",
   "language": "python",
   "name": "python3"
  },
  "language_info": {
   "codemirror_mode": {
    "name": "ipython",
    "version": 3
   },
   "file_extension": ".py",
   "mimetype": "text/x-python",
   "name": "python",
   "nbconvert_exporter": "python",
   "pygments_lexer": "ipython3",
   "version": "3.6.9"
  }
 },
 "nbformat": 4,
 "nbformat_minor": 2
}
